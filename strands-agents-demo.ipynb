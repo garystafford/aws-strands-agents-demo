{
 "cells": [
  {
   "cell_type": "markdown",
   "id": "e6bb825a-de90-4ec1-bcaa-85f0902b3e45",
   "metadata": {},
   "source": [
    "# Strands Agents Demonstration\n",
    "\n",
    "[Strands Agents](https://github.com/strands-agents/sdk-python) is a simple yet powerful SDK that takes a model-driven approach to building and running AI agents. From simple conversational assistants to complex autonomous workflows, from local development to production deployment, Strands Agents scales with your needs.\n",
    "\n",
    "Author: Gary A. Stafford\n",
    "\n",
    "Date: 2025-05-26\n",
    "\n",
    "References:\n",
    "- [Stands Agents Blog Post: 'Introducing Strands Agents, an Open Source AI Agents SDK'](https://aws.amazon.com/blogs/opensource/introducing-strands-agents-an-open-source-ai-agents-sdk/)\n",
    "- [Stands Agents Documentation](https://strandsagents.com/0.1.x/)\n",
    "- [Stands Agents GitHub Repository](https://github.com/strands-agents/sdk-python)\n",
    "\n"
   ]
  },
  {
   "cell_type": "markdown",
   "id": "ec38815e",
   "metadata": {},
   "source": [
    "## Install Strands Agents"
   ]
  },
  {
   "cell_type": "code",
   "execution_count": null,
   "id": "c5023af2-5d4f-4040-a2c4-cce0ff213207",
   "metadata": {},
   "outputs": [],
   "source": [
    "%pip install strands-agents strands-agents-tools boto3 botocore -Uqqq"
   ]
  },
  {
   "cell_type": "code",
   "execution_count": null,
   "id": "cd98c37f-fb0d-4176-95db-9fe5121c7fce",
   "metadata": {},
   "outputs": [],
   "source": [
    "# Restart kernel (only works on Linux)\n",
    "import os\n",
    "\n",
    "os._exit(00)"
   ]
  },
  {
   "cell_type": "code",
   "execution_count": 2,
   "id": "e120a7ca",
   "metadata": {},
   "outputs": [],
   "source": [
    "# Built-in libraries\n",
    "import http.client\n",
    "import json\n",
    "import logging\n",
    "import os\n",
    "import urllib.request\n",
    "\n",
    "# Third-party libraries\n",
    "import boto3\n",
    "from strands import Agent, tool\n",
    "from strands.models import BedrockModel\n",
    "from strands_tools import calculator\n",
    "\n",
    "# Configure logging\n",
    "# Set up logging to output to console\n",
    "logger = logging.getLogger(__name__)\n",
    "logging.basicConfig(level=logging.INFO)"
   ]
  },
  {
   "cell_type": "markdown",
   "id": "10e07662",
   "metadata": {},
   "source": [
    "## Set Your AWS Credentials\n",
    "\n",
    "There are multiple ways to set your AWS Credentials depending on your environment."
   ]
  },
  {
   "cell_type": "code",
   "execution_count": null,
   "id": "df8fa395",
   "metadata": {},
   "outputs": [],
   "source": [
    "session = boto3.Session(\n",
    "    region_name=\"us-east-1\",\n",
    "    aws_access_key_id=\"<YOUR_ACCESS_KEY_ID>\",\n",
    "    aws_secret_access_key=\"<YOUR_SECRET_ACCESS_KEY>\",\n",
    "    aws_session_token=\"<YOUR_SESSION_TOKEN>\",\n",
    ")"
   ]
  },
  {
   "cell_type": "markdown",
   "id": "3c1c1351",
   "metadata": {},
   "source": [
    "## Simple Calculator Tool Demonstration\n",
    "\n",
    "From the Strands Agents GitHub [Quick Start](https://github.com/strands-agents/sdk-python?tab=readme-ov-file#quick-start) documentation."
   ]
  },
  {
   "cell_type": "code",
   "execution_count": null,
   "id": "5333a584-48f7-4d5f-b866-b6db5df52ac5",
   "metadata": {},
   "outputs": [],
   "source": [
    "%%time\n",
    "\n",
    "bedrock_model = BedrockModel(\n",
    "    boto_session=session,\n",
    "    model_config={\n",
    "        \"model_id\": \"us.amazon.nova-micro-v1:0\",\n",
    "        \"max_tokens\": 128,\n",
    "        \"temperature\": 0.1,\n",
    "    },\n",
    ")\n",
    "\n",
    "agent = Agent(model=bedrock_model, tools=[calculator])\n",
    "result = agent(\"What is the square root of 1764?\")\n",
    "print(\"\\n\")"
   ]
  },
  {
   "cell_type": "markdown",
   "id": "0d8ce433",
   "metadata": {},
   "source": [
    "## Custom Tool Demonstration\n",
    "\n",
    "From the Strands Agents GitHub [Features as a Glance](https://github.com/strands-agents/sdk-python?tab=readme-ov-file#features-at-a-glance) documentation."
   ]
  },
  {
   "cell_type": "code",
   "execution_count": null,
   "id": "768f96e3-2da4-406f-a58d-57fa812f6696",
   "metadata": {},
   "outputs": [],
   "source": [
    "%%time\n",
    "\n",
    "\n",
    "@tool\n",
    "def word_count(text: str) -> int:\n",
    "    \"\"\"Count words in text.\n",
    "\n",
    "    This docstring is used by the LLM to understand the tool's purpose.\n",
    "    \"\"\"\n",
    "    return len(text.split())\n",
    "\n",
    "\n",
    "bedrock_model = BedrockModel(\n",
    "    boto_session=session,\n",
    "    model_config={\n",
    "        \"model_id\": \"us.amazon.nova-micro-v1:0\",\n",
    "        \"max_tokens\": 256,\n",
    "        \"temperature\": 0.2,\n",
    "    },\n",
    ")\n",
    "\n",
    "agent = Agent(model=bedrock_model, tools=[word_count])\n",
    "result = agent(\"How many words are in this sentence?\")\n",
    "print(\"\\n\")"
   ]
  },
  {
   "cell_type": "markdown",
   "id": "67e61783",
   "metadata": {},
   "source": [
    "## Web Research Agent Demonstration\n",
    "\n",
    "Inspired by the AWS Blog Post, [Integrate dynamic web content in your generative AI application using a web search API and Amazon Bedrock Agents\n",
    "](https://aws.amazon.com/blogs/machine-learning/integrate-dynamic-web-content-in-your-generative-ai-application-using-a-web-search-api-and-amazon-bedrock-agents/)\n",
    "\n",
    "Requires a free [Serper](https://serper.dev/) and [Tavily](https://www.tavily.com/) API key. You must create a free account and obtain a API key for both serper.dev and tavily before continuing."
   ]
  },
  {
   "cell_type": "markdown",
   "id": "44f880fc",
   "metadata": {},
   "source": [
    "### Secure API Keys in AWS Secrets Manager\n",
    "\n",
    "Secure your Serper and Tavily API keys in AWS Secrets Manager."
   ]
  },
  {
   "cell_type": "code",
   "execution_count": null,
   "id": "4eca1a79",
   "metadata": {},
   "outputs": [],
   "source": [
    "# Initialize the Secrets Manager client\n",
    "secrets_manager = session.client(\"secretsmanager\")\n",
    "\n",
    "try:\n",
    "    # Create Serper API key secret\n",
    "    serper_response = secrets_manager.create_secret(\n",
    "        Name=\"SERPER_API_KEY\",\n",
    "        Description=\"The API secret key for Serper.\",\n",
    "        SecretString=\"<YOUR_SERPER_API_KEY>\",\n",
    "    )\n",
    "    logger.info(\"Serper secret created:\", serper_response[\"ARN\"])\n",
    "\n",
    "    # Create Tavily API key secret\n",
    "    tavily_response = secrets_manager.create_secret(\n",
    "        Name=\"TAVILY_API_KEY\",\n",
    "        Description=\"The API secret key for Tavily AI.\",\n",
    "        SecretString=\"<YOUR_TAVILY_API_KEY>\",\n",
    "    )\n",
    "    logger.info(\"Tavily secret created:\", tavily_response[\"ARN\"])\n",
    "except secrets_manager.exceptions.ClientError as e:\n",
    "    if e.response[\"Error\"][\"Code\"] == \"ResourceExistsException\":\n",
    "        logger.warning(\"Secret already exists.\")\n",
    "    else:\n",
    "        logger.error(\"An unexpected error occurred:\", e)"
   ]
  },
  {
   "cell_type": "markdown",
   "id": "4be884d1",
   "metadata": {},
   "source": [
    "### Retrieve API keys from AWS Secrets Manager\n",
    "\n",
    "Retrieve your Serper and Tavily API keys from AWS Secrets Manager."
   ]
  },
  {
   "cell_type": "code",
   "execution_count": null,
   "id": "28c754a3-9ab6-4843-bad0-77103c3c8a08",
   "metadata": {},
   "outputs": [],
   "source": [
    "def get_from_secretstore(key: str) -> str:\n",
    "    try:\n",
    "        secret_value = secrets_manager.get_secret_value(SecretId=key)\n",
    "        logger.info(f\"Retrieved {key} from Secrets Manager.\")\n",
    "        return secret_value[\"SecretString\"]\n",
    "    except secrets_manager.exceptions.ClientError as e:\n",
    "        if e.response[\"Error\"][\"Code\"] == \"ResourceExistsException\":\n",
    "            logger.warning(\"Secret already exists.\")\n",
    "        else:\n",
    "            logger.error(f\"Could not get {key} from Secrets Manager: {e}\")\n",
    "\n",
    "\n",
    "# Retrieve API keys from Secrets Manager\n",
    "SERPER_API_KEY = get_from_secretstore(\"SERPER_API_KEY\")\n",
    "TAVILY_API_KEY = get_from_secretstore(\"TAVILY_API_KEY\")"
   ]
  },
  {
   "cell_type": "markdown",
   "id": "519449ef",
   "metadata": {},
   "source": [
    "### Define Custom Tools\n",
    "\n",
    "Define Python functions as tools by using the `@tool` decorator."
   ]
  },
  {
   "cell_type": "code",
   "execution_count": null,
   "id": "a2d9705f-501e-4831-870c-119fd6d50d94",
   "metadata": {},
   "outputs": [],
   "source": [
    "@tool\n",
    "def google_search(search_query: str, target_website: str = \"\") -> str:\n",
    "    \"\"\"\n",
    "    This tool performs a Google search using the Serper API.\n",
    "    For targeted news, like 'what are the latest news in Austria' or similar.\n",
    "\n",
    "    Args:\n",
    "        search_query (str): The query to search for.\n",
    "        target_website (str, optional): If provided, restricts the search to this website.\n",
    "    Returns:\n",
    "        str: The JSON response from the Serper API containing search results.\n",
    "    \"\"\"\n",
    "    if SERPER_API_KEY is None:\n",
    "        raise ValueError(\n",
    "            \"SERPER_API_KEY is not set. Please set the environment variable.\"\n",
    "        )\n",
    "    if not search_query:\n",
    "        raise ValueError(\"Search query cannot be empty.\")\n",
    "\n",
    "    if target_website:\n",
    "        search_query += f\" site:{target_website}\"\n",
    "\n",
    "    conn = http.client.HTTPSConnection(\"google.serper.dev\")\n",
    "    payload = json.dumps({\"q\": search_query})\n",
    "    headers = {\"X-API-KEY\": SERPER_API_KEY, \"Content-Type\": \"application/json\"}\n",
    "    search_type = \"news\"  # \"news\", \"search\",\n",
    "\n",
    "    try:\n",
    "        conn.request(\"POST\", f\"/{search_type}\", payload, headers)\n",
    "        response = conn.getresponse()\n",
    "        response_data = response.read().decode(\"utf-8\")\n",
    "        return response_data\n",
    "    except http.client.HTTPException as e:\n",
    "        logger.error(\n",
    "            f\"Failed to retrieve search results from Serper API, error: {e.code}\"\n",
    "        )\n",
    "\n",
    "    return \"\"\n",
    "\n",
    "\n",
    "@tool\n",
    "def tavily_ai_search(search_query: str, target_website: str = \"\") -> str:\n",
    "    \"\"\"\n",
    "    This tool performs a search using the Tavily AI Search API.\n",
    "    To retrieve information via the Internet or for topics that the LLM does not know about and intense research is needed.\n",
    "\n",
    "    Args:\n",
    "        search_query (str): The query to search for.\n",
    "        target_website (str, optional): If provided, restricts the search to this website.\n",
    "    Returns:\n",
    "        str: The JSON response from the Tavily AI Search API containing search results.\n",
    "    \"\"\"\n",
    "    if TAVILY_API_KEY is None:\n",
    "        raise ValueError(\n",
    "            \"TAVILY_API_KEY is not set. Please set the environment variable.\"\n",
    "        )\n",
    "    if not search_query:\n",
    "        raise ValueError(\"Search query cannot be empty.\")\n",
    "\n",
    "    base_url = \"https://api.tavily.com/search\"\n",
    "    headers = {\"Content-Type\": \"application/json\", \"Accept\": \"application/json\"}\n",
    "    payload = {\n",
    "        \"api_key\": TAVILY_API_KEY,\n",
    "        \"query\": search_query,\n",
    "        \"search_depth\": \"advanced\",\n",
    "        \"include_images\": False,\n",
    "        \"include_answer\": False,\n",
    "        \"include_raw_content\": False,\n",
    "        \"max_results\": 3,\n",
    "        \"include_domains\": [target_website] if target_website else [],\n",
    "        \"exclude_domains\": [],\n",
    "    }\n",
    "\n",
    "    data = json.dumps(payload).encode(\"utf-8\")\n",
    "    request = urllib.request.Request(base_url, data=data, headers=headers)\n",
    "\n",
    "    try:\n",
    "        response = urllib.request.urlopen(request)\n",
    "        response_data = response.read().decode(\"utf-8\")\n",
    "        return response_data\n",
    "    except urllib.error.HTTPError as e:\n",
    "        logger.error(\n",
    "            f\"Failed to retrieve search results from Tavily AI Search, error: {e.code}\"\n",
    "        )\n",
    "\n",
    "    return \"\""
   ]
  },
  {
   "cell_type": "markdown",
   "id": "4d3eb5ce",
   "metadata": {},
   "source": [
    "### Test `tavily_ai_search` Tool Use"
   ]
  },
  {
   "cell_type": "code",
   "execution_count": null,
   "id": "4bf7b77e-e9db-4b65-90ad-30450f4d514e",
   "metadata": {},
   "outputs": [],
   "source": [
    "%%time\n",
    "\n",
    "bedrock_model = BedrockModel(\n",
    "    boto_session=session,\n",
    "    model_config={\n",
    "        \"model_id\": \"us.anthropic.claude-sonnet-4-20250514-v1:0\",\n",
    "        \"max_tokens\": 256,\n",
    "        \"temperature\": 0.1,\n",
    "    },\n",
    ")\n",
    "\n",
    "agent = Agent(model=bedrock_model, tools=[google_search, tavily_ai_search])\n",
    "result = agent(\"What is the latest Anthropic Claude model?\")\n",
    "print(\"\\n\")"
   ]
  },
  {
   "cell_type": "markdown",
   "id": "79e13605",
   "metadata": {},
   "source": [
    "### Test `google_search` Tool Use"
   ]
  },
  {
   "cell_type": "code",
   "execution_count": null,
   "id": "0b3940bd-df0d-48f7-bc0a-ecaf912cde1f",
   "metadata": {},
   "outputs": [],
   "source": [
    "%%time\n",
    "\n",
    "bedrock_model = BedrockModel(\n",
    "    boto_session=session,\n",
    "    model_config={\n",
    "        \"model_id\": \"us.anthropic.claude-sonnet-4-20250514-v1:0\",\n",
    "        \"max_tokens\": 512,\n",
    "        \"temperature\": 0.2,\n",
    "    },\n",
    ")\n",
    "\n",
    "agent = Agent(model=bedrock_model, tools=[google_search, tavily_ai_search])\n",
    "result = agent(\"What are the latest top 5 news headlines?\")\n",
    "print(\"\\n\")"
   ]
  },
  {
   "cell_type": "markdown",
   "id": "6ebaf018",
   "metadata": {},
   "source": [
    "### Multi-tool Use"
   ]
  },
  {
   "cell_type": "code",
   "execution_count": null,
   "id": "4a7c5f32-2f64-43bf-aa8c-cd517492f1e7",
   "metadata": {},
   "outputs": [],
   "source": [
    "%%time\n",
    "\n",
    "bedrock_model = BedrockModel(\n",
    "    boto_session=session,\n",
    "    model_config={\n",
    "        \"model_id\": \"us.amazon.nova-premier-v1:0\",\n",
    "        \"max_tokens\": 512,\n",
    "        \"temperature\": 0.2,\n",
    "    },\n",
    ")\n",
    "\n",
    "agent = Agent(model=bedrock_model, tools=[calculator, google_search, tavily_ai_search])\n",
    "\n",
    "result = agent(\n",
    "    \"What is the square root of the current US National Debt divided by the current US population in USD? Show me the calculation steps and the final result.\"\n",
    ")\n",
    "print(\"\\n\")"
   ]
  }
 ],
 "metadata": {
  "kernelspec": {
   "display_name": ".venv",
   "language": "python",
   "name": "python3"
  },
  "language_info": {
   "codemirror_mode": {
    "name": "ipython",
    "version": 3
   },
   "file_extension": ".py",
   "mimetype": "text/x-python",
   "name": "python",
   "nbconvert_exporter": "python",
   "pygments_lexer": "ipython3",
   "version": "3.12.9"
  }
 },
 "nbformat": 4,
 "nbformat_minor": 5
}
